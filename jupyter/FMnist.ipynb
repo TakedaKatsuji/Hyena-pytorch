{
 "cells": [
  {
   "cell_type": "code",
   "execution_count": 212,
   "metadata": {},
   "outputs": [
    {
     "ename": "",
     "evalue": "",
     "output_type": "error",
     "traceback": [
      "\u001b[1;31mThe Kernel crashed while executing code in the the current cell or a previous cell. Please review the code in the cell(s) to identify a possible cause of the failure. Click <a href='https://aka.ms/vscodeJupyterKernelCrash'>here</a> for more info. View Jupyter <a href='command:jupyter.viewOutput'>log</a> for further details."
     ]
    }
   ],
   "source": [
    "import sys\n",
    "sys.path.append(\"../\")\n",
    "from hyena.standalone_hyena import HyenaOperator\n",
    "from torch.utils.data import DataLoader, Dataset\n",
    "import torch\n",
    "from torchinfo import summary\n",
    "from einops import rearrange\n",
    "import timm\n",
    "from PIL import Image\n",
    "import numpy as np\n",
    "from  torchvision import datasets, transforms\n",
    "import torch.optim as optim\n",
    "import torch.nn as nn\n",
    "import os\n",
    "import random\n",
    "from tqdm import tqdm\n"
   ]
  },
  {
   "cell_type": "code",
   "execution_count": 139,
   "metadata": {},
   "outputs": [],
   "source": [
    "def seed_everything(seed):\n",
    "    random.seed(seed)\n",
    "    os.environ['PYTHONHASHSEED'] = str(seed)\n",
    "    np.random.seed(seed)\n",
    "    torch.manual_seed(seed)\n",
    "    torch.cuda.manual_seed(seed)\n",
    "    torch.cuda.manual_seed_all(seed)\n",
    "    torch.backends.cudnn.deterministic = True\n",
    "seed = 0\n",
    "seed_everything(seed)\n",
    "device = \"cuda\" if torch.cuda.is_available() else \"cpu\""
   ]
  },
  {
   "cell_type": "code",
   "execution_count": 198,
   "metadata": {},
   "outputs": [],
   "source": [
    "\n",
    "class HyenaNet(nn.Module):\n",
    "    def __init__(self, *args, **kwargs) -> None:\n",
    "        super().__init__(*args, **kwargs)\n",
    "        self.hyena =  HyenaOperator(\n",
    "                        d_model=224, \n",
    "                        l_max=224, \n",
    "                        order=10, \n",
    "                        filter_order=64,\n",
    "                    )\n",
    "        self.flat = nn.Flatten()\n",
    "        self.fc = nn.Linear(50176,10)\n",
    "        self.softmax = nn.Softmax()\n",
    "        \n",
    "    def forward(self, x):\n",
    "        x = self.hyena(x)\n",
    "        x = self.flat(x)\n",
    "        x = self.fc(x)\n",
    "        x = self.softmax(x)\n",
    "        return x\n",
    "\n",
    "def get_transform(test=False):\n",
    "    if test:\n",
    "        transform = transforms.Compose([\n",
    "            transforms.Resize((224,224)),\n",
    "            transforms.RandomHorizontalFlip(),\n",
    "            transforms.ToTensor(),\n",
    "            transforms.Normalize((0.5), (0.5))\n",
    "        ])\n",
    "    else:\n",
    "        transform = transforms.Compose([\n",
    "            transforms.Resize((224,224)),\n",
    "            transforms.ToTensor(),\n",
    "            transforms.Normalize((0.5), (0.5))\n",
    "        ])\n",
    "    return transform\n",
    "\n",
    "vit = timm.create_model('vit_base_patch16_224', pretrained=False, num_classes=10)"
   ]
  },
  {
   "cell_type": "code",
   "execution_count": 164,
   "metadata": {},
   "outputs": [],
   "source": [
    "hyena = HyenaNet()"
   ]
  },
  {
   "cell_type": "code",
   "execution_count": 169,
   "metadata": {},
   "outputs": [],
   "source": [
    "fm_train_data = datasets.FashionMNIST(\"../images/\", train=True, transform=get_transform(), download=True)\n",
    "train_loader = DataLoader(fm_train_data, batch_size=1024)\n",
    "fm_test_data = datasets.FashionMNIST(\"../images/\", train=False, transform=get_transform(test=True), download=True)\n",
    "test_loader = DataLoader(fm_test_data, batch_size=1024)\n",
    "criterion = nn.CrossEntropyLoss()\n",
    "optimizer = optim.Adam(hyena.parameters(), lr=1e-6)"
   ]
  },
  {
   "attachments": {},
   "cell_type": "markdown",
   "metadata": {},
   "source": [
    "## hyena train"
   ]
  },
  {
   "cell_type": "code",
   "execution_count": 183,
   "metadata": {},
   "outputs": [
    {
     "name": "stderr",
     "output_type": "stream",
     "text": [
      "  0%|          | 0/59 [00:00<?, ?it/s]/tmp/ipykernel_17266/2968053932.py:18: UserWarning: Implicit dimension choice for softmax has been deprecated. Change the call to include dim=X as an argument.\n",
      "  x = self.softmax(x)\n",
      "100%|██████████| 59/59 [00:25<00:00,  2.31it/s]\n",
      "100%|██████████| 59/59 [00:26<00:00,  2.25it/s]\n",
      "100%|██████████| 59/59 [00:25<00:00,  2.30it/s]\n",
      "100%|██████████| 59/59 [00:25<00:00,  2.33it/s]\n",
      "100%|██████████| 59/59 [00:24<00:00,  2.36it/s]\n",
      "100%|██████████| 59/59 [00:25<00:00,  2.28it/s]\n",
      "100%|██████████| 59/59 [00:25<00:00,  2.31it/s]\n",
      "100%|██████████| 59/59 [00:25<00:00,  2.32it/s]\n",
      "100%|██████████| 59/59 [00:24<00:00,  2.37it/s]\n",
      "100%|██████████| 59/59 [00:25<00:00,  2.36it/s]\n",
      "100%|██████████| 59/59 [00:25<00:00,  2.27it/s]\n",
      "100%|██████████| 59/59 [00:26<00:00,  2.24it/s]\n",
      "100%|██████████| 59/59 [00:25<00:00,  2.28it/s]\n",
      "100%|██████████| 59/59 [00:25<00:00,  2.28it/s]\n",
      "100%|██████████| 59/59 [00:25<00:00,  2.30it/s]\n",
      "100%|██████████| 59/59 [00:25<00:00,  2.28it/s]\n",
      "100%|██████████| 59/59 [00:24<00:00,  2.36it/s]\n",
      "100%|██████████| 59/59 [00:25<00:00,  2.27it/s]\n",
      "100%|██████████| 59/59 [00:25<00:00,  2.28it/s]\n",
      "100%|██████████| 59/59 [00:25<00:00,  2.35it/s]\n",
      "100%|██████████| 59/59 [00:25<00:00,  2.28it/s]\n",
      "100%|██████████| 59/59 [00:25<00:00,  2.31it/s]\n",
      "100%|██████████| 59/59 [00:25<00:00,  2.27it/s]\n",
      "100%|██████████| 59/59 [00:25<00:00,  2.36it/s]\n",
      "100%|██████████| 59/59 [00:25<00:00,  2.35it/s]\n",
      "100%|██████████| 59/59 [00:24<00:00,  2.38it/s]\n",
      "100%|██████████| 59/59 [00:24<00:00,  2.44it/s]\n",
      "100%|██████████| 59/59 [00:26<00:00,  2.22it/s]\n",
      "100%|██████████| 59/59 [00:25<00:00,  2.33it/s]\n",
      "100%|██████████| 59/59 [00:25<00:00,  2.30it/s]\n"
     ]
    }
   ],
   "source": [
    "hyena.to(device)\n",
    "train_loss = []\n",
    "train_corrects = []\n",
    "for epoch in range(30):\n",
    "    epoch_loss = 0.0\n",
    "    epoch_corrects = 0\n",
    "    for i, data in enumerate(tqdm(train_loader)):\n",
    "        optimizer.zero_grad()\n",
    "        img, label = data\n",
    "        img = img.to(device)\n",
    "        label = label.to(device)\n",
    "        output = hyena(img.squeeze())\n",
    "        loss = criterion(output, label)\n",
    "        corrects = torch.sum(output.argmax(dim=1) == label).detach().cpu().item()\n",
    "        epoch_loss += loss.detach().cpu().item()\n",
    "        epoch_corrects += corrects\n",
    "        loss.backward()\n",
    "        optimizer.step()\n",
    "    train_loss.append(epoch_loss/(i+1))\n",
    "    train_corrects.append(epoch_corrects/len(fm_train_data))\n",
    "    "
   ]
  },
  {
   "cell_type": "code",
   "execution_count": 211,
   "metadata": {},
   "outputs": [
    {
     "data": {
      "text/plain": [
       "30"
      ]
     },
     "execution_count": 211,
     "metadata": {},
     "output_type": "execute_result"
    }
   ],
   "source": [
    "import matplotlib.pyplot as plt\n"
   ]
  },
  {
   "cell_type": "code",
   "execution_count": null,
   "metadata": {},
   "outputs": [],
   "source": []
  }
 ],
 "metadata": {
  "kernelspec": {
   "display_name": "strongsort",
   "language": "python",
   "name": "python3"
  },
  "language_info": {
   "codemirror_mode": {
    "name": "ipython",
    "version": 3
   },
   "file_extension": ".py",
   "mimetype": "text/x-python",
   "name": "python",
   "nbconvert_exporter": "python",
   "pygments_lexer": "ipython3",
   "version": "3.10.12"
  },
  "orig_nbformat": 4
 },
 "nbformat": 4,
 "nbformat_minor": 2
}
