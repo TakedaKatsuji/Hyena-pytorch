{
 "cells": [
  {
   "cell_type": "code",
   "execution_count": null,
   "metadata": {},
   "outputs": [],
   "source": [
    "import sys\n",
    "sys.path.append(\"../\")\n",
    "from hyena.standalone_hyena import HyenaOperator\n",
    "from torch.utils.data import DataLoader, Dataset\n",
    "import torch\n",
    "from torchinfo import summary\n",
    "from einops import rearrange\n",
    "import timm\n",
    "from PIL import Image\n",
    "import numpy as np\n",
    "from  torchvision import datasets, transforms\n",
    "import torch.optim as optim\n",
    "import torch.nn as nn\n",
    "import os\n",
    "import random\n",
    "from tqdm import tqdm\n"
   ]
  },
  {
   "cell_type": "code",
   "execution_count": null,
   "metadata": {},
   "outputs": [],
   "source": [
    "def seed_everything(seed):\n",
    "    random.seed(seed)\n",
    "    os.environ['PYTHONHASHSEED'] = str(seed)\n",
    "    np.random.seed(seed)\n",
    "    torch.manual_seed(seed)\n",
    "    torch.cuda.manual_seed(seed)\n",
    "    torch.cuda.manual_seed_all(seed)\n",
    "    torch.backends.cudnn.deterministic = True\n",
    "seed = 0\n",
    "seed_everything(seed)\n",
    "device = \"cuda\" if torch.cuda.is_available() else \"cpu\""
   ]
  },
  {
   "cell_type": "code",
   "execution_count": null,
   "metadata": {},
   "outputs": [],
   "source": [
    "\n",
    "class HyenaNet(nn.Module):\n",
    "    def __init__(self, *args, **kwargs) -> None:\n",
    "        super().__init__(*args, **kwargs)\n",
    "        \n",
    "        self.hyena =  HyenaOperator(\n",
    "                        d_model=3, \n",
    "                        l_max=50176, \n",
    "                        order=10, \n",
    "                        filter_order=64,\n",
    "                    )\n",
    "        self.flat = nn.Flatten()\n",
    "        self.fc = nn.Linear(50176,10)\n",
    "        self.softmax = nn.Softmax()\n",
    "        \n",
    "    def forward(self, x):\n",
    "        x = self.hyena(x)\n",
    "        x = self.flat(x)\n",
    "        x = self.fc(x)\n",
    "        x = self.softmax(x)\n",
    "        return x\n",
    "\n",
    "def get_transform(test=False):\n",
    "    if test:\n",
    "        transform = transforms.Compose([\n",
    "            transforms.Resize((224,224)),\n",
    "            transforms.RandomHorizontalFlip(),\n",
    "            transforms.ToTensor(),\n",
    "            transforms.Normalize((0.5), (0.5))\n",
    "        ])\n",
    "    else:\n",
    "        transform = transforms.Compose([\n",
    "            transforms.Resize((224,224)),\n",
    "            transforms.ToTensor(),\n",
    "            transforms.Normalize((0.5), (0.5))\n",
    "        ])\n",
    "    return transform\n"
   ]
  },
  {
   "cell_type": "code",
   "execution_count": null,
   "metadata": {},
   "outputs": [],
   "source": [
    "hyena = HyenaNet()"
   ]
  },
  {
   "cell_type": "code",
   "execution_count": null,
   "metadata": {},
   "outputs": [
    {
     "name": "stdout",
     "output_type": "stream",
     "text": [
      "Files already downloaded and verified\n"
     ]
    }
   ],
   "source": [
    "train_data = datasets.CIFAR10('../images/', #データを保存するdir\n",
    "                              train = True,  #True : 学習用データ False : テストデータ \n",
    "                              download=True,  # downloadするか否か\n",
    "                              transform = get_transform()) #前処理の設定"
   ]
  },
  {
   "cell_type": "code",
   "execution_count": null,
   "metadata": {},
   "outputs": [
    {
     "name": "stdout",
     "output_type": "stream",
     "text": [
      "Files already downloaded and verified\n"
     ]
    }
   ],
   "source": [
    "test_data = datasets.CIFAR10('../images/', #データを保存するdir\n",
    "                              train = False,  #True : 学習用データ False : テストデータ \n",
    "                              download=True,  # downloadするか否か\n",
    "                              transform = get_transform(test=True)) #前処理の設定"
   ]
  },
  {
   "cell_type": "code",
   "execution_count": null,
   "metadata": {},
   "outputs": [
    {
     "ename": "NameError",
     "evalue": "name 'hyena' is not defined",
     "output_type": "error",
     "traceback": [
      "\u001b[0;31m---------------------------------------------------------------------------\u001b[0m",
      "\u001b[0;31mNameError\u001b[0m                                 Traceback (most recent call last)",
      "Cell \u001b[0;32mIn[14], line 4\u001b[0m\n\u001b[1;32m      2\u001b[0m test_loader \u001b[39m=\u001b[39m DataLoader(test_data,batch_size\u001b[39m=\u001b[39m\u001b[39m64\u001b[39m,shuffle\u001b[39m=\u001b[39m\u001b[39mFalse\u001b[39;00m,num_workers\u001b[39m=\u001b[39m\u001b[39m4\u001b[39m,pin_memory\u001b[39m=\u001b[39m\u001b[39mTrue\u001b[39;00m)\n\u001b[1;32m      3\u001b[0m criterion \u001b[39m=\u001b[39m nn\u001b[39m.\u001b[39mCrossEntropyLoss()\n\u001b[0;32m----> 4\u001b[0m optimizer \u001b[39m=\u001b[39m optim\u001b[39m.\u001b[39mAdam(hyena\u001b[39m.\u001b[39mparameters(), lr\u001b[39m=\u001b[39m\u001b[39m1e-6\u001b[39m)\n",
      "\u001b[0;31mNameError\u001b[0m: name 'hyena' is not defined"
     ]
    }
   ],
   "source": [
    "train_loader = DataLoader(train_data,batch_size=64,shuffle=True,num_workers=4,pin_memory=True)\n",
    "test_loader = DataLoader(test_data,batch_size=64,shuffle=False,num_workers=4,pin_memory=True)\n",
    "criterion = nn.CrossEntropyLoss()\n",
    "optimizer = optim.Adam(hyena.parameters(), lr=1e-6)"
   ]
  },
  {
   "cell_type": "code",
   "execution_count": 8,
   "metadata": {},
   "outputs": [
    {
     "ename": "NameError",
     "evalue": "name 'hyena' is not defined",
     "output_type": "error",
     "traceback": [
      "\u001b[0;31m---------------------------------------------------------------------------\u001b[0m",
      "\u001b[0;31mNameError\u001b[0m                                 Traceback (most recent call last)",
      "Cell \u001b[0;32mIn[8], line 1\u001b[0m\n\u001b[0;32m----> 1\u001b[0m hyena\u001b[39m.\u001b[39mto(device)\n\u001b[1;32m      2\u001b[0m hyena_train_loss \u001b[39m=\u001b[39m []\n\u001b[1;32m      3\u001b[0m hyena_train_corrects \u001b[39m=\u001b[39m []\n",
      "\u001b[0;31mNameError\u001b[0m: name 'hyena' is not defined"
     ]
    }
   ],
   "source": [
    "hyena.to(device)\n",
    "hyena_train_loss = []\n",
    "hyena_train_corrects = []\n",
    "for epoch in range(30):\n",
    "    epoch_loss = 0.0\n",
    "    epoch_corrects = 0\n",
    "    for i, data in enumerate(tqdm(train_loader)):\n",
    "        optimizer.zero_grad()\n",
    "        img, label = data\n",
    "        img = img.to(device)\n",
    "        img = rearrange(img, \"b c w h -> b (w h) c\")\n",
    "        label = label.to(device)\n",
    "        output = hyena(img)\n",
    "        loss = criterion(output, label)\n",
    "        corrects = torch.sum(output.argmax(dim=1) == label).detach().cpu().item()\n",
    "        epoch_loss += loss.detach().cpu().item()\n",
    "        epoch_corrects += corrects\n",
    "        loss.backward()\n",
    "        optimizer.step()\n",
    "    hyena_train_loss.append(epoch_loss/(i+1))\n",
    "    hyena_train_corrects.append(epoch_corrects/len(train_data))"
   ]
  },
  {
   "cell_type": "code",
   "execution_count": 10,
   "metadata": {},
   "outputs": [
    {
     "data": {
      "text/plain": [
       "torch.Size([64, 50176, 3])"
      ]
     },
     "execution_count": 10,
     "metadata": {},
     "output_type": "execute_result"
    }
   ],
   "source": [
    "output.shape"
   ]
  },
  {
   "cell_type": "code",
   "execution_count": null,
   "metadata": {},
   "outputs": [],
   "source": []
  }
 ],
 "metadata": {
  "kernelspec": {
   "display_name": "strongsort",
   "language": "python",
   "name": "python3"
  },
  "language_info": {
   "codemirror_mode": {
    "name": "ipython",
    "version": 3
   },
   "file_extension": ".py",
   "mimetype": "text/x-python",
   "name": "python",
   "nbconvert_exporter": "python",
   "pygments_lexer": "ipython3",
   "version": "3.10.12"
  },
  "orig_nbformat": 4
 },
 "nbformat": 4,
 "nbformat_minor": 2
}
